{
 "cells": [
  {
   "cell_type": "code",
   "execution_count": null,
   "metadata": {},
   "outputs": [],
   "source": [
    "# BEIR data loading and evaluation\n",
    "from beir import util, LoggingHandler\n",
    "from beir.datasets.data_loader import GenericDataLoader\n",
    "from beir.retrieval.evaluation import EvaluateRetrieval\n",
    "\n",
    "# lotus model\n",
    "import pandas as pd\n",
    "import lotus\n",
    "from lotus.models import LM, SentenceTransformersRM, CrossEncoderReranker\n",
    "from lotus.vector_store import FaissVS\n",
    "import numpy as np\n",
    "\n",
    "import logging\n",
    "import pathlib, os\n",
    "import time"
   ]
  },
  {
   "cell_type": "code",
   "execution_count": 17,
   "metadata": {},
   "outputs": [
    {
     "name": "stderr",
     "output_type": "stream",
     "text": [
      "2025-05-08 13:30:43,338 - INFO - Use pytorch device_name: cuda\n",
      "2025-05-08 13:30:43,339 - INFO - Load pretrained SentenceTransformer: intfloat/e5-base-v2\n",
      "2025-05-08 13:30:45,530 - INFO - Use pytorch device: cuda\n"
     ]
    }
   ],
   "source": [
    "\"\"\"Initialize Lotus components and configure settings.\"\"\"\n",
    "os.environ['DEEPSEEK_API_KEY'] = \"sk-520ee20b73934d8ca49d3d16318d9d40\"\n",
    "\n",
    "lm = LM(model=\"deepseek/deepseek-chat\")\n",
    "rm = SentenceTransformersRM(model=\"intfloat/e5-base-v2\")\n",
    "reranker = CrossEncoderReranker(model=\"mixedbread-ai/mxbai-rerank-large-v1\")\n",
    "vs = FaissVS()\n",
    "# Configure all components\n",
    "lotus.settings.configure(lm=lm, rm=rm, reranker=reranker, vs=vs)\n"
   ]
  },
  {
   "cell_type": "code",
   "execution_count": 2,
   "metadata": {},
   "outputs": [],
   "source": [
    "# Configure logging\n",
    "logging.basicConfig(format='%(asctime)s - %(message)s',\n",
    "                    datefmt='%Y-%m-%d %H:%M:%S',\n",
    "                    level=logging.INFO,\n",
    "                    handlers=[LoggingHandler()])\n",
    "logger = logging.getLogger(__name__)"
   ]
  },
  {
   "cell_type": "code",
   "execution_count": 3,
   "metadata": {},
   "outputs": [],
   "source": [
    "#### Download scifact.zip dataset and unzip the dataset\n",
    "dataset = \"fever\"\n",
    "url = f\"https://public.ukp.informatik.tu-darmstadt.de/thakur/BEIR/datasets/{dataset}.zip\"\n",
    "out_dir = os.path.abspath(\"datasets\")"
   ]
  },
  {
   "cell_type": "code",
   "execution_count": 4,
   "metadata": {},
   "outputs": [
    {
     "name": "stderr",
     "output_type": "stream",
     "text": [
      "2025-05-08 12:20:21,570 - INFO - Loading Corpus...\n",
      "100%|██████████| 5416568/5416568 [00:35<00:00, 153100.88it/s]\n",
      "2025-05-08 12:20:59,607 - INFO - Loaded 5416568 DEV Documents.\n",
      "2025-05-08 12:20:59,852 - INFO - Doc Example: {'text': 'The following are the football ( soccer ) events of the year 1928 throughout the world .', 'title': '1928 in association football'}\n",
      "2025-05-08 12:20:59,853 - INFO - Loading Queries...\n",
      "2025-05-08 12:21:00,505 - INFO - Loaded 6666 DEV Queries.\n",
      "2025-05-08 12:21:00,506 - INFO - Query Example: Fox 2000 Pictures released the film Soul Food.\n",
      "2025-05-08 12:21:00,508 - INFO - Dataset loaded. Corpus size: 5416568, Queries size: 6666\n"
     ]
    }
   ],
   "source": [
    "corpus, queries, qrels = GenericDataLoader(data_folder=f\"{out_dir}/fever/\").load(split=\"dev\")\n",
    "logger.info(f\"Dataset loaded. Corpus size: {len(corpus)}, Queries size: {len(queries)}\")"
   ]
  },
  {
   "cell_type": "code",
   "execution_count": 12,
   "metadata": {},
   "outputs": [],
   "source": [
    "# === Convert corpus to DataFrame ===\n",
    "corpus_df = pd.DataFrame([{\n",
    "    \"text\": doc['text']\n",
    "} for _, doc in corpus.items()])\n",
    "corpus_df_1000 = corpus_df.sample(n=1000, random_state=42).reset_index(drop=True)\n"
   ]
  },
  {
   "cell_type": "code",
   "execution_count": 13,
   "metadata": {},
   "outputs": [
    {
     "name": "stderr",
     "output_type": "stream",
     "text": [
      "2025-05-08 13:07:16,649 - WARNING - Do not reset the dataframe index to ensure proper functionality of get_vectors_from_index\n",
      "100%|██████████| 16/16 [00:14<00:00,  1.13it/s]\n"
     ]
    }
   ],
   "source": [
    "# create index\n",
    "corpus_df_1000 = corpus_df_1000.sem_index('text', f\"{out_dir}/fever/index_1000/\")"
   ]
  },
  {
   "cell_type": "code",
   "execution_count": 21,
   "metadata": {},
   "outputs": [],
   "source": [
    "# corpus_df = corpus_df.sem_index('text', \"/mnt/homes/ktle/lotus-ai/benchmark/datasets/fever/index\")\n",
    "# === Convert queries to DataFrame with gold label\n",
    "queries_df = pd.DataFrame([{\n",
    "    \"query_id\": query_id,\n",
    "    \"claim\": query,\n",
    "} for query_id, query in queries.items()])\n",
    "\n",
    "# === Sample n_sample queries\n",
    "queries_df = queries_df.sample(n=10, random_state=42).reset_index(drop=True)\n"
   ]
  },
  {
   "cell_type": "code",
   "execution_count": 15,
   "metadata": {},
   "outputs": [],
   "source": [
    "# load index\n",
    "vs.load_index(f\"{out_dir}/fever/index_1000/\")"
   ]
  },
  {
   "cell_type": "code",
   "execution_count": 22,
   "metadata": {},
   "outputs": [
    {
     "name": "stderr",
     "output_type": "stream",
     "text": [
      "2025-05-08 13:41:45,340 - INFO - Performing query rewriting...\n",
      "Mapping: 100%|██████████ 10/10 LM calls [00:05<00:00,  1.82it/s]\n",
      "2025-05-08 13:41:50,841 - INFO - Query rewriting completed successfully\n"
     ]
    },
    {
     "name": "stdout",
     "output_type": "stream",
     "text": [
      "query_id                                        139059\n",
      "claim       Murda Beatz was born on February 21, 1994.\n",
      "_map                        When was Murda Beatz born?\n",
      "Name: 1, dtype: object\n"
     ]
    }
   ],
   "source": [
    "try:\n",
    "    # Step 1: Query rewriting\n",
    "    logger.info(\"Performing query rewriting...\")\n",
    "    queries_df = queries_df.sem_map(\"Rewrite the claim into a semantic search query question to retrieve relevant Wikipedia evidence. Claim: {claim}. Only respond with the query and do not need include site:wikipedia.org.\")\n",
    "    logger.info(\"Query rewriting completed successfully\")\n",
    "except Exception as e:\n",
    "    logger.error(f\"Error during query rewriting: {e}\")\n",
    "    logger.warning(\"Falling back to original claim text for retrieval\")    \n",
    "results = []\n",
    "print(queries_df.iloc[1])\n"
   ]
  },
  {
   "cell_type": "code",
   "execution_count": null,
   "metadata": {},
   "outputs": [],
   "source": [
    "# Step 2: Document retrieval for each claim\n",
    "for idx, row in queries_df.iterrows():\n",
    "    query_id = row[\"query_id\"]\n",
    "    claim = row[\"claim\"]\n",
    "    query_text = row[\"_map\"]\n",
    "    \n",
    "    logger.info(f\"Processing claim {idx+1}/{len(queries_df)}: ID={query_id}\")\n",
    "    logger.info(f\"Original claim: {claim}\")\n",
    "    logger.info(f\"Mapped query: {query_text}\")\n",
    "    \n",
    "    # Search the corpus for documents relevant to the query\n",
    "    search_results = corpus_df_1000.sem_search(\n",
    "        'text',\n",
    "        f\"Which text answer this question: {query_text}?\",\n",
    "        K=5,\n",
    "    )\n",
    "    logger.info(f\"Retrieved {len(search_results)} documents\")\n",
    "    \n",
    "    logger.info(f'Started filtering process for claim: {claim}')\n",
    "    supporting_search_results = search_results.sem_filter(\n",
    "        f\"Text provide evidence for {claim}?\"\n",
    "    )\n",
    "            # If you have a unique identifier column like 'doc_id'\n",
    "    supporting_ids = supporting_search_results['doc_id'].tolist()\n",
    "    unsupporting_search_results = search_results[~search_results['doc_id'].isin(supporting_ids)]\n",
    "    results.append({\n",
    "        \"claim\": claim,\n",
    "        \"mapped_query\": query_text,\n",
    "        \"supporting_texts\": \"\\n---\\n\".join(supporting_search_results['text'].tolist()),\n",
    "        \"non_supporting_texts\": \"\\n---\\n\".join(unsupporting_search_results['text'].tolist()),\n",
    "    })\n"
   ]
  }
 ],
 "metadata": {
  "kernelspec": {
   "display_name": "lotus",
   "language": "python",
   "name": "python3"
  },
  "language_info": {
   "codemirror_mode": {
    "name": "ipython",
    "version": 3
   },
   "file_extension": ".py",
   "mimetype": "text/x-python",
   "name": "python",
   "nbconvert_exporter": "python",
   "pygments_lexer": "ipython3",
   "version": "3.10.16"
  }
 },
 "nbformat": 4,
 "nbformat_minor": 2
}
